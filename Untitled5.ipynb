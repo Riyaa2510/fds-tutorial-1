{
 "cells": [
  {
   "cell_type": "code",
   "execution_count": 1,
   "id": "291fc637-967c-4d79-ae95-a29f6fb333b3",
   "metadata": {},
   "outputs": [
    {
     "name": "stdout",
     "output_type": "stream",
     "text": [
      "12\n"
     ]
    }
   ],
   "source": [
    "from numpy import random\n",
    "x = random.randint(100)\n",
    "print(x)"
   ]
  },
  {
   "cell_type": "code",
   "execution_count": 2,
   "id": "2a122ca8-f232-4729-a1a6-f12bb42146dd",
   "metadata": {},
   "outputs": [
    {
     "name": "stdout",
     "output_type": "stream",
     "text": [
      "[0.12058366 0.13681639 0.06562334 0.02618391 0.20640484 0.00318626\n",
      " 0.4411381  0.22945497 0.8529047  0.73597964 0.35481349 0.37624003\n",
      " 0.55533075 0.14373236 0.49105389 0.84056814 0.02393424 0.29770336\n",
      " 0.63162973 0.68177748 0.71019399 0.75980696 0.01259998 0.81894947\n",
      " 0.37908263 0.99330595 0.22208442 0.64575696 0.34485723 0.66799352\n",
      " 0.94744093 0.10083128 0.38091681 0.46078239 0.12178186 0.39187328\n",
      " 0.29680862 0.21705223 0.33241998 0.47895886 0.53857075 0.3554808\n",
      " 0.637975   0.15490792 0.69628464 0.4016405  0.5102268  0.73556444\n",
      " 0.14350714 0.75296038 0.08610515 0.11684943 0.52137252 0.12426993\n",
      " 0.67084301 0.46004071 0.02118693 0.57531876 0.34417132 0.75785858\n",
      " 0.87143158 0.02865879 0.49082622 0.78074062 0.16874773 0.21725162\n",
      " 0.06496224 0.51489973 0.7641284  0.98151484 0.68796375 0.61957826\n",
      " 0.42494349 0.8394996  0.0631957  0.39443859 0.29536454 0.88569205\n",
      " 0.9941874  0.20117129 0.96769888 0.29733448 0.91661576 0.70127328\n",
      " 0.46751528 0.77228321 0.12054486 0.42925862 0.93114996 0.46539699\n",
      " 0.0983836  0.12859626 0.69082258 0.59086688 0.26271865 0.33089547\n",
      " 0.35742021 0.19031606 0.03071661 0.61274813]\n"
     ]
    }
   ],
   "source": [
    "from numpy import random\n",
    "x = random.rand(100)\n",
    "print(x)"
   ]
  },
  {
   "cell_type": "code",
   "execution_count": 3,
   "id": "b3e6e3b5-e0c0-4196-b0d0-63b14ea06efb",
   "metadata": {},
   "outputs": [
    {
     "name": "stdout",
     "output_type": "stream",
     "text": [
      "[3 2 1 2 3 3 2 2 3 2]\n"
     ]
    }
   ],
   "source": [
    "from numpy import random\n",
    "\n",
    "x = random.choice([1, 2, 3, 4], p=[0.1, 0.3, 0.6, 0.0],\n",
    "size=(10))\n",
    "\n",
    "print(x)"
   ]
  },
  {
   "cell_type": "code",
   "execution_count": 4,
   "id": "bdb4d15e-a4af-4ef7-af22-9aaade11314b",
   "metadata": {},
   "outputs": [
    {
     "name": "stdout",
     "output_type": "stream",
     "text": [
      "[[2 3 1 2 2]\n",
      " [3 3 3 3 3]]\n"
     ]
    }
   ],
   "source": [
    "from numpy import random\n",
    "x = random.choice([1, 2, 3, 4], p=[0.1, 0.3, 0.6, 0.0],\n",
    "size=(2, 5))\n",
    "print(x)\n",
    "#output tally with probability "
   ]
  },
  {
   "cell_type": "code",
   "execution_count": 5,
   "id": "774b3030-1c47-4e78-9021-2ee7d03b1d0f",
   "metadata": {},
   "outputs": [
    {
     "name": "stdout",
     "output_type": "stream",
     "text": [
      "[[3 3 3 3 3]\n",
      " [2 1 2 3 2]\n",
      " [1 2 3 3 3]]\n"
     ]
    }
   ],
   "source": [
    "from numpy import random\n",
    "x = random.choice([1, 2, 3, 4], p=[0.1, 0.3, 0.6, 0.0],\n",
    "size=(3, 5))\n",
    "print(x)\n",
    "#output does not tally probability"
   ]
  },
  {
   "cell_type": "code",
   "execution_count": 6,
   "id": "843f9580-c096-4da0-b7d2-5dee7451810d",
   "metadata": {},
   "outputs": [
    {
     "name": "stdout",
     "output_type": "stream",
     "text": [
      "[[-0.70488253  1.15688525 -0.15649909]\n",
      " [ 1.35355619 -0.74971604 -2.58487443]]\n"
     ]
    }
   ],
   "source": [
    "from numpy import random\n",
    "x = random.normal(size=(2, 3))\n",
    "print(x)"
   ]
  },
  {
   "cell_type": "code",
   "execution_count": null,
   "id": "58ccf220-9504-46c6-aeb9-9d31f7fd6797",
   "metadata": {},
   "outputs": [],
   "source": [
    "from numpy import random\n",
    "import matplotlib.pyplot as plt\n",
    "import seaborn as sns\n",
    "sns.distplot(random.normal(size=1000), hist=False)\n",
    "plt.show()"
   ]
  },
  {
   "cell_type": "code",
   "execution_count": null,
   "id": "d45b4aa1-bae1-4f12-a0d2-33d9d3e4f6cf",
   "metadata": {},
   "outputs": [],
   "source": []
  }
 ],
 "metadata": {
  "kernelspec": {
   "display_name": "Python 3 (ipykernel)",
   "language": "python",
   "name": "python3"
  },
  "language_info": {
   "codemirror_mode": {
    "name": "ipython",
    "version": 3
   },
   "file_extension": ".py",
   "mimetype": "text/x-python",
   "name": "python",
   "nbconvert_exporter": "python",
   "pygments_lexer": "ipython3",
   "version": "3.12.4"
  }
 },
 "nbformat": 4,
 "nbformat_minor": 5
}
